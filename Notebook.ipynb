{
 "cells": [
  {
   "cell_type": "code",
   "execution_count": null,
   "id": "initial_id",
   "metadata": {
    "collapsed": true,
    "is_executing": true
   },
   "outputs": [],
   "source": []
  },
  {
   "cell_type": "code",
   "outputs": [
    {
     "ename": "NameError",
     "evalue": "name 'draw_plots' is not defined",
     "output_type": "error",
     "traceback": [
      "\u001B[1;31m---------------------------------------------------------------------------\u001B[0m",
      "\u001B[1;31mNameError\u001B[0m                                 Traceback (most recent call last)",
      "Cell \u001B[1;32mIn[1], line 1\u001B[0m\n\u001B[1;32m----> 1\u001B[0m \u001B[38;5;28;01mfrom\u001B[39;00m \u001B[38;5;21;01mmain\u001B[39;00m \u001B[38;5;28;01mimport\u001B[39;00m PlotDrawer\n\u001B[0;32m      2\u001B[0m \u001B[38;5;28;01mfrom\u001B[39;00m \u001B[38;5;21;01mIPython\u001B[39;00m\u001B[38;5;21;01m.\u001B[39;00m\u001B[38;5;21;01mdisplay\u001B[39;00m \u001B[38;5;28;01mimport\u001B[39;00m Image\n\u001B[0;32m      4\u001B[0m drawer \u001B[38;5;241m=\u001B[39m PlotDrawer(\u001B[38;5;124m'\u001B[39m\u001B[38;5;124mplots\u001B[39m\u001B[38;5;124m'\u001B[39m)\n",
      "File \u001B[1;32m~\\PycharmProjects\\pythonProject4\\main.py:78\u001B[0m\n\u001B[0;32m     74\u001B[0m         plt\u001B[38;5;241m.\u001B[39mclose()\n\u001B[0;32m     76\u001B[0m         \u001B[38;5;28;01mreturn\u001B[39;00m plots_pathad()\n\u001B[1;32m---> 78\u001B[0m draw_plots()\n",
      "\u001B[1;31mNameError\u001B[0m: name 'draw_plots' is not defined"
     ]
    }
   ],
   "source": [
    "from main import PlotDrawer\n",
    "from IPython.display import Image\n",
    "\n",
    "drawer = PlotDrawer('plots')\n",
    "json_file = 'deviations.json'\n",
    "plot_paths = drawer.draw_plots(json_file)\n",
    "\n",
    "for path in plot_paths:\n",
    "    display(Image(filename=path))"
   ],
   "metadata": {
    "collapsed": false,
    "ExecuteTime": {
     "end_time": "2024-01-10T15:11:44.707556200Z",
     "start_time": "2024-01-10T15:11:40.772958100Z"
    }
   },
   "id": "d93a586cc3b9aeb6",
   "execution_count": 1
  }
 ],
 "metadata": {
  "kernelspec": {
   "display_name": "Python 3",
   "language": "python",
   "name": "python3"
  },
  "language_info": {
   "codemirror_mode": {
    "name": "ipython",
    "version": 2
   },
   "file_extension": ".py",
   "mimetype": "text/x-python",
   "name": "python",
   "nbconvert_exporter": "python",
   "pygments_lexer": "ipython2",
   "version": "2.7.6"
  }
 },
 "nbformat": 4,
 "nbformat_minor": 5
}
